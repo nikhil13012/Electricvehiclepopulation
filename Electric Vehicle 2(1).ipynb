{
 "cells": [
  {
   "cell_type": "markdown",
   "id": "5b883a81",
   "metadata": {},
   "source": [
    "# Electric Vehical Population"
   ]
  },
  {
   "cell_type": "code",
   "execution_count": 1,
   "id": "f0bd4ac1",
   "metadata": {},
   "outputs": [],
   "source": [
    "import pandas as pd \n",
    "import numpy as np\n",
    "import matplotlib.pyplot as plt\n",
    "import seaborn as sns\n"
   ]
  },
  {
   "cell_type": "code",
   "execution_count": 6,
   "id": "635fb19d",
   "metadata": {},
   "outputs": [],
   "source": [
    "#Reading CSV:-\n",
    "\n",
    "df=pd.read_csv(\"C:\\\\Users\\\\Lenovo\\\\Downloads\\\\Electric_Vehicle_Population_Data.csv \")\n"
   ]
  },
  {
   "cell_type": "code",
   "execution_count": 7,
   "id": "a32b6454",
   "metadata": {},
   "outputs": [
    {
     "data": {
      "text/html": [
       "<div>\n",
       "<style scoped>\n",
       "    .dataframe tbody tr th:only-of-type {\n",
       "        vertical-align: middle;\n",
       "    }\n",
       "\n",
       "    .dataframe tbody tr th {\n",
       "        vertical-align: top;\n",
       "    }\n",
       "\n",
       "    .dataframe thead th {\n",
       "        text-align: right;\n",
       "    }\n",
       "</style>\n",
       "<table border=\"1\" class=\"dataframe\">\n",
       "  <thead>\n",
       "    <tr style=\"text-align: right;\">\n",
       "      <th></th>\n",
       "      <th>VIN (1-10)</th>\n",
       "      <th>Country</th>\n",
       "      <th>City</th>\n",
       "      <th>State</th>\n",
       "      <th>Postal Code</th>\n",
       "      <th>Model Year</th>\n",
       "      <th>Make</th>\n",
       "      <th>Model</th>\n",
       "      <th>Electric Vehicle Type</th>\n",
       "      <th>Clean Alternative Fuel Vehicle (CAFV) Eligibility</th>\n",
       "      <th>Electric Range</th>\n",
       "      <th>Base MSRP</th>\n",
       "      <th>Legislative District</th>\n",
       "      <th>DOL Vehicle ID</th>\n",
       "      <th>Vehicle Location</th>\n",
       "      <th>Electric Utility</th>\n",
       "      <th>2020 Census Tract</th>\n",
       "    </tr>\n",
       "  </thead>\n",
       "  <tbody>\n",
       "    <tr>\n",
       "      <th>0</th>\n",
       "      <td>5YJ3E1EB2J</td>\n",
       "      <td>Suffolk</td>\n",
       "      <td>Suffolk</td>\n",
       "      <td>VA</td>\n",
       "      <td>23435.0</td>\n",
       "      <td>2018</td>\n",
       "      <td>TESLA</td>\n",
       "      <td>MODEL 3</td>\n",
       "      <td>Battery Electric Vehicle (BEV)</td>\n",
       "      <td>Clean Alternative Fuel Vehicle Eligible</td>\n",
       "      <td>215</td>\n",
       "      <td>0</td>\n",
       "      <td>NaN</td>\n",
       "      <td>476647986</td>\n",
       "      <td>POINT (-76.42443 36.8752)</td>\n",
       "      <td>NaN</td>\n",
       "      <td>5.180008e+10</td>\n",
       "    </tr>\n",
       "    <tr>\n",
       "      <th>1</th>\n",
       "      <td>5YJ3E1ECXL</td>\n",
       "      <td>Yakima</td>\n",
       "      <td>Yakima</td>\n",
       "      <td>WA</td>\n",
       "      <td>98908.0</td>\n",
       "      <td>2020</td>\n",
       "      <td>TESLA</td>\n",
       "      <td>MODEL 3</td>\n",
       "      <td>Battery Electric Vehicle (BEV)</td>\n",
       "      <td>Clean Alternative Fuel Vehicle Eligible</td>\n",
       "      <td>308</td>\n",
       "      <td>0</td>\n",
       "      <td>14.0</td>\n",
       "      <td>103490145</td>\n",
       "      <td>POINT (-120.56916 46.58514)</td>\n",
       "      <td>PACIFICORP</td>\n",
       "      <td>5.307700e+10</td>\n",
       "    </tr>\n",
       "    <tr>\n",
       "      <th>2</th>\n",
       "      <td>WA1LAAGE7M</td>\n",
       "      <td>Yakima</td>\n",
       "      <td>Yakima</td>\n",
       "      <td>WA</td>\n",
       "      <td>98908.0</td>\n",
       "      <td>2021</td>\n",
       "      <td>AUDI</td>\n",
       "      <td>E-TRON</td>\n",
       "      <td>Battery Electric Vehicle (BEV)</td>\n",
       "      <td>Clean Alternative Fuel Vehicle Eligible</td>\n",
       "      <td>222</td>\n",
       "      <td>0</td>\n",
       "      <td>14.0</td>\n",
       "      <td>144941534</td>\n",
       "      <td>POINT (-120.56916 46.58514)</td>\n",
       "      <td>PACIFICORP</td>\n",
       "      <td>5.307700e+10</td>\n",
       "    </tr>\n",
       "    <tr>\n",
       "      <th>3</th>\n",
       "      <td>5YJ3E1EA1K</td>\n",
       "      <td>Danville</td>\n",
       "      <td>Danville</td>\n",
       "      <td>VA</td>\n",
       "      <td>24541.0</td>\n",
       "      <td>2019</td>\n",
       "      <td>TESLA</td>\n",
       "      <td>MODEL 3</td>\n",
       "      <td>Battery Electric Vehicle (BEV)</td>\n",
       "      <td>Clean Alternative Fuel Vehicle Eligible</td>\n",
       "      <td>220</td>\n",
       "      <td>0</td>\n",
       "      <td>NaN</td>\n",
       "      <td>168513922</td>\n",
       "      <td>POINT (-79.4172 36.58598)</td>\n",
       "      <td>NaN</td>\n",
       "      <td>5.159000e+10</td>\n",
       "    </tr>\n",
       "    <tr>\n",
       "      <th>4</th>\n",
       "      <td>1FADP5CU9E</td>\n",
       "      <td>Norfolk</td>\n",
       "      <td>Norfolk</td>\n",
       "      <td>VA</td>\n",
       "      <td>23518.0</td>\n",
       "      <td>2014</td>\n",
       "      <td>FORD</td>\n",
       "      <td>C-MAX</td>\n",
       "      <td>Plug-in Hybrid Electric Vehicle (PHEV)</td>\n",
       "      <td>Not eligible due to low battery range</td>\n",
       "      <td>19</td>\n",
       "      <td>0</td>\n",
       "      <td>NaN</td>\n",
       "      <td>150749378</td>\n",
       "      <td>POINT (-76.21549 36.92478)</td>\n",
       "      <td>NaN</td>\n",
       "      <td>5.171001e+10</td>\n",
       "    </tr>\n",
       "  </tbody>\n",
       "</table>\n",
       "</div>"
      ],
      "text/plain": [
       "   VIN (1-10)   Country      City State  Postal Code  Model Year   Make  \\\n",
       "0  5YJ3E1EB2J   Suffolk   Suffolk    VA      23435.0        2018  TESLA   \n",
       "1  5YJ3E1ECXL    Yakima    Yakima    WA      98908.0        2020  TESLA   \n",
       "2  WA1LAAGE7M    Yakima    Yakima    WA      98908.0        2021   AUDI   \n",
       "3  5YJ3E1EA1K  Danville  Danville    VA      24541.0        2019  TESLA   \n",
       "4  1FADP5CU9E   Norfolk   Norfolk    VA      23518.0        2014   FORD   \n",
       "\n",
       "     Model                   Electric Vehicle Type  \\\n",
       "0  MODEL 3          Battery Electric Vehicle (BEV)   \n",
       "1  MODEL 3          Battery Electric Vehicle (BEV)   \n",
       "2   E-TRON          Battery Electric Vehicle (BEV)   \n",
       "3  MODEL 3          Battery Electric Vehicle (BEV)   \n",
       "4    C-MAX  Plug-in Hybrid Electric Vehicle (PHEV)   \n",
       "\n",
       "  Clean Alternative Fuel Vehicle (CAFV) Eligibility  Electric Range  \\\n",
       "0           Clean Alternative Fuel Vehicle Eligible             215   \n",
       "1           Clean Alternative Fuel Vehicle Eligible             308   \n",
       "2           Clean Alternative Fuel Vehicle Eligible             222   \n",
       "3           Clean Alternative Fuel Vehicle Eligible             220   \n",
       "4             Not eligible due to low battery range              19   \n",
       "\n",
       "   Base MSRP  Legislative District  DOL Vehicle ID  \\\n",
       "0          0                   NaN       476647986   \n",
       "1          0                  14.0       103490145   \n",
       "2          0                  14.0       144941534   \n",
       "3          0                   NaN       168513922   \n",
       "4          0                   NaN       150749378   \n",
       "\n",
       "              Vehicle Location Electric Utility  2020 Census Tract  \n",
       "0    POINT (-76.42443 36.8752)              NaN       5.180008e+10  \n",
       "1  POINT (-120.56916 46.58514)       PACIFICORP       5.307700e+10  \n",
       "2  POINT (-120.56916 46.58514)       PACIFICORP       5.307700e+10  \n",
       "3    POINT (-79.4172 36.58598)              NaN       5.159000e+10  \n",
       "4   POINT (-76.21549 36.92478)              NaN       5.171001e+10  "
      ]
     },
     "execution_count": 7,
     "metadata": {},
     "output_type": "execute_result"
    }
   ],
   "source": [
    "df.head()"
   ]
  },
  {
   "cell_type": "code",
   "execution_count": 8,
   "id": "57bdb2ea",
   "metadata": {},
   "outputs": [
    {
     "data": {
      "text/plain": [
       "(121978, 17)"
      ]
     },
     "execution_count": 8,
     "metadata": {},
     "output_type": "execute_result"
    }
   ],
   "source": [
    "df.shape"
   ]
  },
  {
   "cell_type": "code",
   "execution_count": 10,
   "id": "3589da77",
   "metadata": {},
   "outputs": [
    {
     "name": "stdout",
     "output_type": "stream",
     "text": [
      "<class 'pandas.core.frame.DataFrame'>\n",
      "RangeIndex: 121978 entries, 0 to 121977\n",
      "Data columns (total 17 columns):\n",
      " #   Column                                             Non-Null Count   Dtype  \n",
      "---  ------                                             --------------   -----  \n",
      " 0   VIN (1-10)                                         121978 non-null  object \n",
      " 1   Country                                            121976 non-null  object \n",
      " 2   City                                               121976 non-null  object \n",
      " 3   State                                              121978 non-null  object \n",
      " 4   Postal Code                                        121976 non-null  float64\n",
      " 5   Model Year                                         121978 non-null  int64  \n",
      " 6   Make                                               121978 non-null  object \n",
      " 7   Model                                              121874 non-null  object \n",
      " 8   Electric Vehicle Type                              121978 non-null  object \n",
      " 9   Clean Alternative Fuel Vehicle (CAFV) Eligibility  121978 non-null  object \n",
      " 10  Electric Range                                     121978 non-null  int64  \n",
      " 11  Base MSRP                                          121978 non-null  int64  \n",
      " 12  Legislative District                               121681 non-null  float64\n",
      " 13  DOL Vehicle ID                                     121978 non-null  int64  \n",
      " 14  Vehicle Location                                   121946 non-null  object \n",
      " 15  Electric Utility                                   121509 non-null  object \n",
      " 16  2020 Census Tract                                  121976 non-null  float64\n",
      "dtypes: float64(3), int64(4), object(10)\n",
      "memory usage: 15.8+ MB\n"
     ]
    }
   ],
   "source": [
    "df.info()"
   ]
  },
  {
   "cell_type": "code",
   "execution_count": 11,
   "id": "27f3c3b7",
   "metadata": {},
   "outputs": [
    {
     "data": {
      "text/plain": [
       "0"
      ]
     },
     "execution_count": 11,
     "metadata": {},
     "output_type": "execute_result"
    }
   ],
   "source": [
    "df.duplicated().sum()"
   ]
  },
  {
   "cell_type": "code",
   "execution_count": 13,
   "id": "c2ec0ff6",
   "metadata": {},
   "outputs": [
    {
     "data": {
      "text/plain": [
       "array([     0,  45600,  31950,  39995,  33950,  69900,  52900, 110950,\n",
       "        54950,  36900,  59900,  55700,  64950,  32250, 184400,  36800,\n",
       "        34995,  53400,  52650,  98950,  44100,  81100,  90700,  75095,\n",
       "        43700,  89100, 102000,  91250, 109000,  32995, 845000],\n",
       "      dtype=int64)"
      ]
     },
     "execution_count": 13,
     "metadata": {},
     "output_type": "execute_result"
    }
   ],
   "source": [
    "df[\"Base MSRP\"].unique()"
   ]
  },
  {
   "cell_type": "code",
   "execution_count": 14,
   "id": "c7ba1810",
   "metadata": {},
   "outputs": [
    {
     "data": {
      "text/plain": [
       "array([5.18000752e+10, 5.30770004e+10, 5.30770028e+10, ...,\n",
       "       3.70939701e+10, 6.07300440e+09, 1.08104190e+09])"
      ]
     },
     "execution_count": 14,
     "metadata": {},
     "output_type": "execute_result"
    }
   ],
   "source": [
    "df[\"2020 Census Tract\"].unique()"
   ]
  },
  {
   "cell_type": "code",
   "execution_count": 15,
   "id": "87e7f82b",
   "metadata": {},
   "outputs": [
    {
     "data": {
      "text/plain": [
       "array(['Suffolk', 'Yakima', 'Danville', 'Norfolk', 'Olympia', 'Tenino',\n",
       "       'Bothell', 'Seattle', 'Cle Elum', 'Snohomish', 'Leavenworth',\n",
       "       'Kirkland', 'Port Orchard', 'Lake Stevens', 'Mount Vernon',\n",
       "       'Decatur', 'Moses Lake', 'Anacortes', 'Pomeroy', 'Walla Walla',\n",
       "       'Bow', 'Ronald', 'Pullman', 'Gig Harbor', 'Yelm', 'Poulsbo',\n",
       "       'Tumwater', 'Langley', 'Selah', 'Goshen', 'Sedro Woolley',\n",
       "       'Cashmere', 'Marysville', 'Woodinville', 'Wenatchee', 'Lacey',\n",
       "       'Bremerton', 'Redmond', 'Lynnwood', 'Santa Cruz', 'Everett',\n",
       "       'Edmonds', 'East Wenatchee', 'Mukilteo', 'Aiea', 'Spokane',\n",
       "       'Clinton', 'Cheney', 'Chelan', 'Silverdale', 'Hunters',\n",
       "       'Rock Island', 'Dayton', 'Union Gap', 'North Las Vegas', 'Palouse',\n",
       "       'Colville', 'Renton', 'Bainbridge Island', 'Suquamish', 'Monroe',\n",
       "       'Bellevue', 'Puyallup', 'South Hill', 'Des Moines', 'Tacoma',\n",
       "       'Bellingham', 'Vancouver', 'Snoqualmie', 'Stanwood', 'Castle Rock',\n",
       "       'Kenmore', 'White Salmon', 'Ridgefield', 'Duvall', 'Mercer Island',\n",
       "       'Federal Way', 'Maple Valley', 'Spanaway', 'Richland', 'Olalla',\n",
       "       'Graham', 'Issaquah', 'Mill Creek', 'Stevenson', 'Bonney Lake',\n",
       "       'Kingston', 'Burien', 'Greenacres', 'Clyde Hill', 'Auburn',\n",
       "       'Coupeville', 'Shoreline', 'Sammamish', 'Spokane Valley',\n",
       "       'Ferndale', 'Vashon', 'Sequim', 'Lake Tapps', 'Normandy Park',\n",
       "       'Eastsound', 'Pasco', 'Hunts Point', 'Everson', 'Camas',\n",
       "       'Enumclaw', 'Grandview', 'Covington', 'Steilacoom', 'Edgewood',\n",
       "       'Seabeck', 'Ocean Park', 'Black Diamond', 'Longview', 'Carnation',\n",
       "       'Lakewood', 'Oak Harbor', 'Royal City', 'Fox Island', 'Malaga',\n",
       "       'Ellensburg', 'Seatac', 'Tukwila', 'Mountlake Terrace', 'Keyport',\n",
       "       'Port Townsend', 'Belfair', 'Silver Creek', 'Kennewick',\n",
       "       'Battle Ground', 'Yarrow Point', 'Buckley', 'Liberty Lake',\n",
       "       'Clarkston', 'Brush Prairie', 'Kent', 'Sedro-Woolley', 'Shelton',\n",
       "       'Port Angeles', 'Newcastle', 'Waldron', 'Freeland', 'Oakville',\n",
       "       'Ocean Shores', 'Rochester', 'Indianola', 'Arlington', 'Manson',\n",
       "       'Milton', 'Washougal', 'Elk', 'Burbank', 'Mead', 'Chehalis',\n",
       "       'Parkland', 'Burlington', 'Chesapeake Beach', 'Orting',\n",
       "       'Centralia', 'Toppenish', 'Fort Irwin', 'Medical Lake', 'Chimacum',\n",
       "       'La Center', 'Usk', 'Camano Island', 'Beaux Arts', 'Tonasket',\n",
       "       'Hoodsport', 'Brier', 'Aberdeen', 'Medina', 'Algona', 'Montesano',\n",
       "       'North Bend', 'Olga', 'Dupont', 'Joint Base Lewis Mcchord', 'Fife',\n",
       "       'Othello', 'University Place', 'Lake Forest Park', 'Morton',\n",
       "       'Winthrop', 'Veradale', 'Deer Harbor', 'Lynden', 'Nine Mile Falls',\n",
       "       'Sumner', 'Elma', 'Woodway', 'Newman Lake', 'Ravensdale',\n",
       "       'Alexandria', 'Rice', 'Woodland', 'Fircrest', 'Roslyn', 'Colbert',\n",
       "       'Grapeview', 'Waitsburg', 'Friday Harbor', 'Menlo',\n",
       "       'West Richland', 'Ariel', 'Okanogan', 'Port Ludlow', 'Lakebay',\n",
       "       'Quincy', 'Hansville', 'Benton City', 'Ephrata', 'Allyn', 'Kalama',\n",
       "       'Westport', 'Husum', 'Lopez Island', 'Maple Falls', 'Mccleary',\n",
       "       'Anderson Island', 'Chattaroy', 'Sultan', 'Soap Lake', 'Newport',\n",
       "       'Preston', 'Concrete', 'Burke', 'Custer', 'Blaine', 'Prosser',\n",
       "       'San Antonio', 'Carmel By The Sea', 'Naches', 'Omak', 'Onalaska',\n",
       "       'Sunnyside', 'Mattawa', 'Washington', 'Valley', 'Long Beach',\n",
       "       'San Diego', 'Fall City', 'Zillah', 'Roy', 'Ilwaco', 'Eatonville',\n",
       "       'Amboy', 'Tahuya', 'Gold Bar', 'Deer Park', 'Raymond', 'Loon Lake',\n",
       "       'Republic', 'Toledo', 'Quilcene', 'Fairchild Air Force Base',\n",
       "       'Hoquiam', 'La Conner', 'Felts Mills', 'Otis Orchards', 'Union',\n",
       "       'Pacific', 'Winlock', 'Cathlamet', 'Mossyrock', 'Twisp',\n",
       "       'Fort Walton Beach', 'Snowden', 'Underwood', 'Silverlake',\n",
       "       'Skamokawa', 'Outlook', 'Nordland', 'Granite Falls', nan,\n",
       "       'College Place', 'Entiat', 'Colfax', 'Lyle', 'Derby', 'Mabton',\n",
       "       'Brinnon', 'Moxee', 'Bay Center', 'Smith Creek', 'Naselle',\n",
       "       'Uniontown', 'Plymouth', 'Valleyford', 'Pateros', 'Cusick',\n",
       "       'Lummi Island', 'Mazama', 'El Paso', 'Snoqualmie Pass',\n",
       "       'Belleville', 'Waterford', 'Carson', 'Kelso', 'Asotin', 'Chewelah',\n",
       "       'Asheboro', 'Salt Lake City', 'Coulee City', 'Trout Lake', 'Forks',\n",
       "       'Fort Bragg', 'Goldendale', 'Rockford', 'Key West', 'Chesapeake',\n",
       "       'Vader', 'Port Hadlock', 'Ashford', 'San Jose', 'Point Roberts',\n",
       "       'Edwall', 'Ritzville', 'Santa Ana', 'Evans', 'Touchet',\n",
       "       'Dallesport', 'Packwood', 'Harrington', 'Ridgecrest', 'Laughlin',\n",
       "       'Kettle Falls', 'Cosmopolis', 'Pacific Beach', 'Wilbur', 'Toutle',\n",
       "       'Lincoln', 'Latah', 'Airway Heights', 'Sekiu', 'Springfield',\n",
       "       'Pittsburg', 'Ruston', 'Rainier', 'Davenport', 'Mineral',\n",
       "       'Haddonfield', 'Yacolt', 'Cinebar', 'Vantage', 'Greenbank',\n",
       "       'Orondo', 'Kittitas', 'Ethel', 'Leesville', 'Easton', 'Frederick',\n",
       "       'Westminster', 'Riverside', 'Peshastin', 'Chandler', 'Mesa',\n",
       "       'Longbranch', 'Brewster', 'Omaha', 'Palisades', 'Newport News',\n",
       "       'South Prairie', 'North Cove', 'Nahcotta', 'Orcas Is', 'Avalon',\n",
       "       'Killeen', 'Klickitat', 'Inchelium', 'Cupertino', 'Moclips',\n",
       "       'Walla Walla Co', 'Cheyenne', 'Phoenix', 'Oroville', 'Frances',\n",
       "       'Deming', 'Saint Louis', 'Menifee', 'Harker Heights', 'Curtis',\n",
       "       'Gatesville', 'Thorp', 'South Cle Elum', 'Twentynine Palms',\n",
       "       'Lancaster', 'Baring', 'Nespelem', 'Southworth', 'Lexington Park',\n",
       "       'Colorado Springs', 'Skokie', 'Glacier', 'Edgewater', 'Santa Rosa',\n",
       "       'Chinook', 'Wilkeson', 'Bz Corner', 'Copalis Crossing',\n",
       "       'Englewood', 'Virginia Beach', 'Maryhill', 'Dickinson',\n",
       "       'Germantown', 'Springdale', 'Marblemount', 'Vaughn', 'Rosalia',\n",
       "       'Tumtum', 'Hemet', 'Reardan', 'South Range', 'Odessa',\n",
       "       'Oysterville', 'Andrews Air Force Base', 'Randle', 'Wahkiacus',\n",
       "       'Mcchord Afb', 'Surfside', 'Buena Park', 'Mascoutah', 'Seaview',\n",
       "       'Sprague', 'Acme', 'Biloxi', 'Saint Jacob', 'Carbonado',\n",
       "       'Glenwood', 'Connell', 'Skykomish', 'San Mateo', 'Waterville',\n",
       "       'Chevy Chase', 'Cougar', 'Conyers', 'Southern Pines', 'Wildomar',\n",
       "       'Watertown', 'Benicia', 'Bumpass', 'Tekoa', 'Neah Bay', 'Okatie',\n",
       "       'Belle Chasse', 'South Bend', 'Lebam', 'Darrington', 'Shaw Island',\n",
       "       'Silver Lake', 'Grayland', 'Roosevelt', 'Lansing', 'Silver Spring',\n",
       "       'Mica', 'North Bonneville', 'Granger', 'Seven Bays', 'Fruitland',\n",
       "       'Spangle', 'Clayton', 'Scottsdale', 'Lind', 'Grand Coulee',\n",
       "       'Wapato', 'San Rafael', 'White Swan', 'Wichita Falls', 'Rosburg',\n",
       "       'Adairsville', 'Norristown', 'Clearlake', 'Colton',\n",
       "       'Electric City', 'Hamilton', 'Kapowsin', 'Lopez Is', 'Tieton',\n",
       "       'Tempe', 'Annapolis', 'Hatton', 'Nooksack', 'Eltopia', 'Las Vegas',\n",
       "       'Tulalip', 'Fayetteville', 'Murdock', 'Gardena', 'Salkum',\n",
       "       'Lompoc', 'Gambrills', 'Oceanside', 'Sumas', 'Malott', 'Palo Alto',\n",
       "       'Fairbanks', 'Mccutcheon Field', 'Mountain View', 'Port Gamble',\n",
       "       'Cedar Park', 'Carlton', 'Aldie', 'Las Cruces', 'Fort Campbell',\n",
       "       'Alderdale', 'Odenton', 'Curlew', 'Hartline', 'Bridgeport',\n",
       "       'Warden', 'Highland Park', 'Marlin', 'Addy', 'Amanda Park',\n",
       "       'Sonoma', 'Sumter', 'Dover', 'Methow', 'Vienna', 'Coulee Dam',\n",
       "       'Lilliwaup', 'Fort Leavenworth', 'Mansfield', 'Bridgeport Bar',\n",
       "       'Sheridan', 'Carrolls', 'Rosamond', 'Keedysville', 'Garfield',\n",
       "       'Chula Vista', 'Berkeley', 'Warner Robins', 'Grays River',\n",
       "       'Mystic', 'Herndon', 'Junction City', 'Bingen', 'Satsop',\n",
       "       'Endicott', 'Santa Clara', 'Beaver', 'Prosper', 'Goodyear',\n",
       "       'Coronado', 'Taholah', 'Travis Afb', 'Cincinnati', 'Copalis Beach',\n",
       "       'Glenoma', 'Tokeland', 'Goldsboro', 'Madison', 'Tavares',\n",
       "       'Little Elm', 'Platte City', 'Artondale', 'St John', 'Ford',\n",
       "       'Lamont', 'Wishram', 'Fort Wayne', 'Fremont', 'Honolulu',\n",
       "       'Los Angeles', 'Alhambra', 'Sarasota', 'Matlock', 'Sacramento',\n",
       "       'Anthem', 'Newport Beach', 'Lincoln City', 'Summerville',\n",
       "       'Stafford', 'Fredericksburg', 'Rockport', 'Staten Island',\n",
       "       'Stratford', 'Greenfield Center', 'Mechanicsburg', 'Pe Ell',\n",
       "       'Salem', 'Gurnee', 'Little Rock', 'Dallas', 'Charleston Afb',\n",
       "       'Portland', 'Ventura', 'Portsmouth', 'Canoga Park',\n",
       "       'Upper Marlboro', 'Longmont', 'Houston', 'Napa', 'Irvine',\n",
       "       'Potomac', 'Deer Meadows', 'Aurora', 'Montgomery', 'Kenn',\n",
       "       'Slidell', 'Lemoore', 'Minneapolis', 'Old Lyme', 'Pawcatuck',\n",
       "       'San Clemente', 'Gifford', 'Henrico', 'Jericho', 'Hughesville',\n",
       "       'Joint Base Mdl', 'Ewa Beach', 'Vacaville', 'Worley', 'Pros',\n",
       "       'Wexford', 'Newark', 'Apple Valley', 'Middletown', 'Ryderwood',\n",
       "       'Fort George G Meade', 'Bucoda', 'Mount Pleasant', 'Gaithersburg',\n",
       "       'Medford', 'Hanscom Afb', 'Bedford', 'Fairfield', 'Chelmsford',\n",
       "       'Arnold', 'Mountain Home Afb', 'Lithia', 'Seaside', 'Quinault',\n",
       "       'Fort Belvoir', 'Trinidad', 'Kekaha', 'Altus', 'Groton', 'Timnath',\n",
       "       'Rayville', 'Moraga', 'Clarksville', 'Augusta', 'Beaufort',\n",
       "       'Raeford', 'Clallam Bay', 'Prescott', 'Smiths Station'],\n",
       "      dtype=object)"
      ]
     },
     "execution_count": 15,
     "metadata": {},
     "output_type": "execute_result"
    }
   ],
   "source": [
    "df[\"City\"].unique()"
   ]
  },
  {
   "cell_type": "code",
   "execution_count": 16,
   "id": "2d44f50e",
   "metadata": {},
   "outputs": [
    {
     "data": {
      "text/plain": [
       "VIN (1-10)                                             0\n",
       "Country                                                2\n",
       "City                                                   2\n",
       "State                                                  0\n",
       "Postal Code                                            2\n",
       "Model Year                                             0\n",
       "Make                                                   0\n",
       "Model                                                104\n",
       "Electric Vehicle Type                                  0\n",
       "Clean Alternative Fuel Vehicle (CAFV) Eligibility      0\n",
       "Electric Range                                         0\n",
       "Base MSRP                                              0\n",
       "Legislative District                                 297\n",
       "DOL Vehicle ID                                         0\n",
       "Vehicle Location                                      32\n",
       "Electric Utility                                     469\n",
       "2020 Census Tract                                      2\n",
       "dtype: int64"
      ]
     },
     "execution_count": 16,
     "metadata": {},
     "output_type": "execute_result"
    }
   ],
   "source": [
    "df.isna().sum()"
   ]
  },
  {
   "cell_type": "code",
   "execution_count": 17,
   "id": "9638e418",
   "metadata": {},
   "outputs": [],
   "source": [
    "df.Country.fillna(method=\"ffill\",inplace=True)\n"
   ]
  },
  {
   "cell_type": "code",
   "execution_count": 18,
   "id": "d91c0df8",
   "metadata": {},
   "outputs": [],
   "source": [
    "df.Model.fillna(method=\"ffill\",inplace=True)"
   ]
  },
  {
   "cell_type": "code",
   "execution_count": 19,
   "id": "410b62f6",
   "metadata": {},
   "outputs": [],
   "source": [
    "df.City.fillna(method=\"ffill\",inplace=True)"
   ]
  },
  {
   "cell_type": "code",
   "execution_count": 20,
   "id": "b9176b40",
   "metadata": {},
   "outputs": [],
   "source": [
    "df[\"Legislative District\"].fillna(method=\"ffill\",inplace=True)"
   ]
  },
  {
   "cell_type": "code",
   "execution_count": 21,
   "id": "1fb26723",
   "metadata": {},
   "outputs": [],
   "source": [
    "df[\"Postal Code\"].fillna(method=\"ffill\",inplace=True)"
   ]
  },
  {
   "cell_type": "code",
   "execution_count": 22,
   "id": "83dd173c",
   "metadata": {},
   "outputs": [],
   "source": [
    "df[\"Vehicle Location\"].fillna(method=\"ffill\",inplace=True)"
   ]
  },
  {
   "cell_type": "code",
   "execution_count": 23,
   "id": "9a4d6f3b",
   "metadata": {},
   "outputs": [],
   "source": [
    "df[\"Electric Utility\"].fillna(method=\"ffill\",inplace=True)"
   ]
  },
  {
   "cell_type": "code",
   "execution_count": 24,
   "id": "46e74567",
   "metadata": {},
   "outputs": [],
   "source": [
    "df[\"2020 Census Tract\"].fillna(method=\"ffill\",inplace=True)"
   ]
  },
  {
   "cell_type": "code",
   "execution_count": 25,
   "id": "224c46bc",
   "metadata": {},
   "outputs": [
    {
     "data": {
      "text/plain": [
       "VIN (1-10)                                           0\n",
       "Country                                              0\n",
       "City                                                 0\n",
       "State                                                0\n",
       "Postal Code                                          0\n",
       "Model Year                                           0\n",
       "Make                                                 0\n",
       "Model                                                0\n",
       "Electric Vehicle Type                                0\n",
       "Clean Alternative Fuel Vehicle (CAFV) Eligibility    0\n",
       "Electric Range                                       0\n",
       "Base MSRP                                            0\n",
       "Legislative District                                 1\n",
       "DOL Vehicle ID                                       0\n",
       "Vehicle Location                                     0\n",
       "Electric Utility                                     1\n",
       "2020 Census Tract                                    0\n",
       "dtype: int64"
      ]
     },
     "execution_count": 25,
     "metadata": {},
     "output_type": "execute_result"
    }
   ],
   "source": [
    "df.isna().sum()"
   ]
  },
  {
   "cell_type": "code",
   "execution_count": 26,
   "id": "2c15de76",
   "metadata": {},
   "outputs": [
    {
     "data": {
      "text/plain": [
       "array([nan, 14., 22., 20.,  1., 43., 13., 12., 48., 26., 44., 10., 40.,\n",
       "        9., 16., 23., 15., 39., 45., 35., 38., 21., 32., 46.,  2.,  3.,\n",
       "        6.,  7., 11., 34., 37., 41., 36., 25., 33., 27., 49.,  5., 17.,\n",
       "       30., 28.,  8., 31.,  4., 42., 47., 24., 18., 19., 29.])"
      ]
     },
     "execution_count": 26,
     "metadata": {},
     "output_type": "execute_result"
    }
   ],
   "source": [
    "\n",
    "df[\"Legislative District\"].unique()"
   ]
  },
  {
   "cell_type": "code",
   "execution_count": 27,
   "id": "ffeb4baa",
   "metadata": {},
   "outputs": [],
   "source": [
    "df[\"Legislative District\"].fillna(df[\"Legislative District\"].median(),inplace=True)"
   ]
  },
  {
   "cell_type": "code",
   "execution_count": 28,
   "id": "bd0f330f",
   "metadata": {},
   "outputs": [
    {
     "data": {
      "text/plain": [
       "array([34., 14., 22., 20.,  1., 43., 13., 12., 48., 26., 44., 10., 40.,\n",
       "        9., 16., 23., 15., 39., 45., 35., 38., 21., 32., 46.,  2.,  3.,\n",
       "        6.,  7., 11., 37., 41., 36., 25., 33., 27., 49.,  5., 17., 30.,\n",
       "       28.,  8., 31.,  4., 42., 47., 24., 18., 19., 29.])"
      ]
     },
     "execution_count": 28,
     "metadata": {},
     "output_type": "execute_result"
    }
   ],
   "source": [
    "df[\"Legislative District\"].unique()"
   ]
  },
  {
   "cell_type": "code",
   "execution_count": 29,
   "id": "ab60f15b",
   "metadata": {},
   "outputs": [
    {
     "data": {
      "text/plain": [
       "VIN (1-10)                                           0\n",
       "Country                                              0\n",
       "City                                                 0\n",
       "State                                                0\n",
       "Postal Code                                          0\n",
       "Model Year                                           0\n",
       "Make                                                 0\n",
       "Model                                                0\n",
       "Electric Vehicle Type                                0\n",
       "Clean Alternative Fuel Vehicle (CAFV) Eligibility    0\n",
       "Electric Range                                       0\n",
       "Base MSRP                                            0\n",
       "Legislative District                                 0\n",
       "DOL Vehicle ID                                       0\n",
       "Vehicle Location                                     0\n",
       "Electric Utility                                     1\n",
       "2020 Census Tract                                    0\n",
       "dtype: int64"
      ]
     },
     "execution_count": 29,
     "metadata": {},
     "output_type": "execute_result"
    }
   ],
   "source": [
    "df.isna().sum()"
   ]
  },
  {
   "cell_type": "code",
   "execution_count": 30,
   "id": "b8e59939",
   "metadata": {},
   "outputs": [
    {
     "data": {
      "text/plain": [
       "array([nan, 'PACIFICORP', 'PUGET SOUND ENERGY INC',\n",
       "       'CITY OF SEATTLE - (WA)|CITY OF TACOMA - (WA)',\n",
       "       'PUD NO 1 OF CHELAN COUNTY',\n",
       "       'PUGET SOUND ENERGY INC||CITY OF TACOMA - (WA)',\n",
       "       'PUD NO 2 OF GRANT COUNTY', 'AVISTA CORP',\n",
       "       'PUD NO 1 OF DOUGLAS COUNTY', 'MODERN ELECTRIC WATER COMPANY',\n",
       "       'CITY OF CHENEY - (WA)',\n",
       "       'BONNEVILLE POWER ADMINISTRATION||CITY OF TACOMA - (WA)||PENINSULA LIGHT COMPANY',\n",
       "       'PUGET SOUND ENERGY INC||PUD NO 1 OF WHATCOM COUNTY',\n",
       "       'BONNEVILLE POWER ADMINISTRATION||PUD NO 1 OF CLARK COUNTY - (WA)',\n",
       "       'BONNEVILLE POWER ADMINISTRATION||CITY OF TACOMA - (WA)||ELMHURST MUTUAL POWER & LIGHT CO|PENINSULA LIGHT COMPANY',\n",
       "       'BONNEVILLE POWER ADMINISTRATION||PUD 1 OF SNOHOMISH COUNTY',\n",
       "       'BONNEVILLE POWER ADMINISTRATION||PUD NO 1 OF COWLITZ COUNTY',\n",
       "       'BONNEVILLE POWER ADMINISTRATION||PUD NO 1 OF KLICKITAT COUNTY',\n",
       "       'BONNEVILLE POWER ADMINISTRATION||AVISTA CORP||INLAND POWER & LIGHT COMPANY',\n",
       "       'BONNEVILLE POWER ADMINISTRATION||CITY OF RICHLAND - (WA)',\n",
       "       'BONNEVILLE POWER ADMINISTRATION||PUD NO 1 OF SKAMANIA CO',\n",
       "       'BONNEVILLE POWER ADMINISTRATION||PUD NO 1 OF CLALLAM COUNTY',\n",
       "       'BONNEVILLE POWER ADMINISTRATION||ORCAS POWER & LIGHT COOP',\n",
       "       'BONNEVILLE POWER ADMINISTRATION||PUD NO 1 OF FRANKLIN COUNTY',\n",
       "       'BONNEVILLE POWER ADMINISTRATION||PACIFICORP||BENTON RURAL ELECTRIC ASSN',\n",
       "       'BONNEVILLE POWER ADMINISTRATION||TOWN OF STEILACOOM|CITY OF TACOMA - (WA)||PENINSULA LIGHT COMPANY',\n",
       "       'BONNEVILLE POWER ADMINISTRATION||PUD NO 2 OF PACIFIC COUNTY',\n",
       "       'BONNEVILLE POWER ADMINISTRATION||PUGET SOUND ENERGY INC||PUD NO 1 OF JEFFERSON COUNTY',\n",
       "       'BONNEVILLE POWER ADMINISTRATION||CITY OF TACOMA - (WA)||PUD NO 3 OF MASON COUNTY',\n",
       "       'BONNEVILLE POWER ADMINISTRATION||CITY OF TACOMA - (WA)||PUD NO 1 OF LEWIS COUNTY',\n",
       "       'BONNEVILLE POWER ADMINISTRATION||PUD NO 1 OF BENTON COUNTY',\n",
       "       'BONNEVILLE POWER ADMINISTRATION||INLAND POWER & LIGHT COMPANY',\n",
       "       'BONNEVILLE POWER ADMINISTRATION||PUD NO 1 OF ASOTIN COUNTY||INLAND POWER & LIGHT COMPANY',\n",
       "       'BONNEVILLE POWER ADMINISTRATION||CITY OF PORT ANGELES - (WA)',\n",
       "       'BONNEVILLE POWER ADMINISTRATION||PUD NO 1 OF GRAYS HARBOR COUNTY',\n",
       "       'BONNEVILLE POWER ADMINISTRATION||CITY OF MILTON - (WA)|CITY OF TACOMA - (WA)',\n",
       "       'BONNEVILLE POWER ADMINISTRATION||PACIFICORP||PUD NO 1 OF CLARK COUNTY - (WA)',\n",
       "       'BONNEVILLE POWER ADMINISTRATION||VERA IRRIGATION DISTRICT #15',\n",
       "       'BONNEVILLE POWER ADMINISTRATION||COLUMBIA RURAL ELEC ASSN, INC',\n",
       "       'BONNEVILLE POWER ADMINISTRATION||CITY OF TACOMA - (WA)||PARKLAND LIGHT & WATER COMPANY|PENINSULA LIGHT COMPANY',\n",
       "       'BONNEVILLE POWER ADMINISTRATION||CITY OF TACOMA - (WA)||LAKEVIEW LIGHT & POWER|PENINSULA LIGHT COMPANY',\n",
       "       'PUD NO 1 OF PEND OREILLE COUNTY', 'PUD NO 1 OF OKANOGAN COUNTY',\n",
       "       'BONNEVILLE POWER ADMINISTRATION||CITY OF TACOMA - (WA)||PUD NO 1 OF MASON COUNTY',\n",
       "       'CITY OF TACOMA - (WA)||TANNER ELECTRIC COOP',\n",
       "       'BONNEVILLE POWER ADMINISTRATION||AVISTA CORP||BIG BEND ELECTRIC COOP, INC',\n",
       "       'OKANOGAN COUNTY ELEC COOP, INC',\n",
       "       'BONNEVILLE POWER ADMINISTRATION||CITY OF ELLENSBURG - (WA)',\n",
       "       'BONNEVILLE POWER ADMINISTRATION||AVISTA CORP||PUD NO 1 OF ASOTIN COUNTY',\n",
       "       'BONNEVILLE POWER ADMINISTRATION||PACIFICORP||COLUMBIA RURAL ELEC ASSN, INC',\n",
       "       'BONNEVILLE POWER ADMINISTRATION||CITY OF CENTRALIA - (WA)|CITY OF TACOMA - (WA)',\n",
       "       'BONNEVILLE POWER ADMINISTRATION||CITY OF MCCLEARY - (WA)',\n",
       "       'BONNEVILLE POWER ADMINISTRATION||CITY OF TACOMA - (WA)||BENTON RURAL ELECTRIC ASSN|PENINSULA LIGHT COMPANY',\n",
       "       'CITY OF BLAINE - (WA)||PUD NO 1 OF WHATCOM COUNTY',\n",
       "       'BONNEVILLE POWER ADMINISTRATION||CITY OF TACOMA - (WA)||OHOP MUTUAL LIGHT COMPANY, INC|PENINSULA LIGHT COMPANY',\n",
       "       'BONNEVILLE POWER ADMINISTRATION||PUD NO 1 OF FERRY COUNTY',\n",
       "       'BONNEVILLE POWER ADMINISTRATION||PUD NO 1 OF WAHKIAKUM COUNTY',\n",
       "       'BONNEVILLE POWER ADMINISTRATION||PUD NO 1 OF MASON COUNTY|PUD NO 1 OF JEFFERSON COUNTY',\n",
       "       'PUD NO 1 OF WHATCOM COUNTY',\n",
       "       'BONNEVILLE POWER ADMINISTRATION||BIG BEND ELECTRIC COOP, INC',\n",
       "       'BONNEVILLE POWER ADMINISTRATION||TOWN OF RUSTON - (WA)|CITY OF TACOMA - (WA)||PENINSULA LIGHT COMPANY',\n",
       "       'BONNEVILLE POWER ADMINISTRATION||PUD NO 1 OF KITTITAS COUNTY',\n",
       "       'CITY OF TACOMA - (WA)',\n",
       "       'BONNEVILLE POWER ADMINISTRATION||NESPELEM VALLEY ELEC COOP, INC',\n",
       "       'BONNEVILLE POWER ADMINISTRATION||TOWN OF EATONVILLE - (WA)|CITY OF TACOMA - (WA)',\n",
       "       'PORTLAND GENERAL ELECTRIC CO',\n",
       "       'BONNEVILLE POWER ADMINISTRATION||BENTON RURAL ELECTRIC ASSN',\n",
       "       'BONNEVILLE POWER ADMINISTRATION||PUD NO 1 OF ASOTIN COUNTY',\n",
       "       'CITY OF CHEWELAH',\n",
       "       'BONNEVILLE POWER ADMINISTRATION||CITY OF COULEE DAM - (WA)',\n",
       "       'CITY OF SUMAS - (WA)||PUD NO 1 OF WHATCOM COUNTY',\n",
       "       'BONNEVILLE POWER ADMINISTRATION||CITY OF TACOMA - (WA)||ALDER MUTUAL LIGHT CO, INC|PENINSULA LIGHT COMPANY',\n",
       "       'BONNEVILLE POWER ADMINISTRATION||PENINSULA LIGHT COMPANY',\n",
       "       'CITY OF SEATTLE - (WA)'], dtype=object)"
      ]
     },
     "execution_count": 30,
     "metadata": {},
     "output_type": "execute_result"
    }
   ],
   "source": [
    "df[\"Electric Utility\"].unique()"
   ]
  },
  {
   "cell_type": "code",
   "execution_count": 31,
   "id": "1e67dfb4",
   "metadata": {},
   "outputs": [],
   "source": [
    "df[\"Electric Utility\"].fillna(method=\"bfill\",inplace=True)"
   ]
  },
  {
   "cell_type": "code",
   "execution_count": 32,
   "id": "faf31954",
   "metadata": {},
   "outputs": [
    {
     "data": {
      "text/plain": [
       "VIN (1-10)                                           0\n",
       "Country                                              0\n",
       "City                                                 0\n",
       "State                                                0\n",
       "Postal Code                                          0\n",
       "Model Year                                           0\n",
       "Make                                                 0\n",
       "Model                                                0\n",
       "Electric Vehicle Type                                0\n",
       "Clean Alternative Fuel Vehicle (CAFV) Eligibility    0\n",
       "Electric Range                                       0\n",
       "Base MSRP                                            0\n",
       "Legislative District                                 0\n",
       "DOL Vehicle ID                                       0\n",
       "Vehicle Location                                     0\n",
       "Electric Utility                                     0\n",
       "2020 Census Tract                                    0\n",
       "dtype: int64"
      ]
     },
     "execution_count": 32,
     "metadata": {},
     "output_type": "execute_result"
    }
   ],
   "source": [
    "df.isna().sum()"
   ]
  },
  {
   "cell_type": "code",
   "execution_count": 33,
   "id": "6d5ad4a4",
   "metadata": {},
   "outputs": [
    {
     "data": {
      "text/plain": [
       "array(['PACIFICORP', 'PUGET SOUND ENERGY INC',\n",
       "       'CITY OF SEATTLE - (WA)|CITY OF TACOMA - (WA)',\n",
       "       'PUD NO 1 OF CHELAN COUNTY',\n",
       "       'PUGET SOUND ENERGY INC||CITY OF TACOMA - (WA)',\n",
       "       'PUD NO 2 OF GRANT COUNTY', 'AVISTA CORP',\n",
       "       'PUD NO 1 OF DOUGLAS COUNTY', 'MODERN ELECTRIC WATER COMPANY',\n",
       "       'CITY OF CHENEY - (WA)',\n",
       "       'BONNEVILLE POWER ADMINISTRATION||CITY OF TACOMA - (WA)||PENINSULA LIGHT COMPANY',\n",
       "       'PUGET SOUND ENERGY INC||PUD NO 1 OF WHATCOM COUNTY',\n",
       "       'BONNEVILLE POWER ADMINISTRATION||PUD NO 1 OF CLARK COUNTY - (WA)',\n",
       "       'BONNEVILLE POWER ADMINISTRATION||CITY OF TACOMA - (WA)||ELMHURST MUTUAL POWER & LIGHT CO|PENINSULA LIGHT COMPANY',\n",
       "       'BONNEVILLE POWER ADMINISTRATION||PUD 1 OF SNOHOMISH COUNTY',\n",
       "       'BONNEVILLE POWER ADMINISTRATION||PUD NO 1 OF COWLITZ COUNTY',\n",
       "       'BONNEVILLE POWER ADMINISTRATION||PUD NO 1 OF KLICKITAT COUNTY',\n",
       "       'BONNEVILLE POWER ADMINISTRATION||AVISTA CORP||INLAND POWER & LIGHT COMPANY',\n",
       "       'BONNEVILLE POWER ADMINISTRATION||CITY OF RICHLAND - (WA)',\n",
       "       'BONNEVILLE POWER ADMINISTRATION||PUD NO 1 OF SKAMANIA CO',\n",
       "       'BONNEVILLE POWER ADMINISTRATION||PUD NO 1 OF CLALLAM COUNTY',\n",
       "       'BONNEVILLE POWER ADMINISTRATION||ORCAS POWER & LIGHT COOP',\n",
       "       'BONNEVILLE POWER ADMINISTRATION||PUD NO 1 OF FRANKLIN COUNTY',\n",
       "       'BONNEVILLE POWER ADMINISTRATION||PACIFICORP||BENTON RURAL ELECTRIC ASSN',\n",
       "       'BONNEVILLE POWER ADMINISTRATION||TOWN OF STEILACOOM|CITY OF TACOMA - (WA)||PENINSULA LIGHT COMPANY',\n",
       "       'BONNEVILLE POWER ADMINISTRATION||PUD NO 2 OF PACIFIC COUNTY',\n",
       "       'BONNEVILLE POWER ADMINISTRATION||PUGET SOUND ENERGY INC||PUD NO 1 OF JEFFERSON COUNTY',\n",
       "       'BONNEVILLE POWER ADMINISTRATION||CITY OF TACOMA - (WA)||PUD NO 3 OF MASON COUNTY',\n",
       "       'BONNEVILLE POWER ADMINISTRATION||CITY OF TACOMA - (WA)||PUD NO 1 OF LEWIS COUNTY',\n",
       "       'BONNEVILLE POWER ADMINISTRATION||PUD NO 1 OF BENTON COUNTY',\n",
       "       'BONNEVILLE POWER ADMINISTRATION||INLAND POWER & LIGHT COMPANY',\n",
       "       'BONNEVILLE POWER ADMINISTRATION||PUD NO 1 OF ASOTIN COUNTY||INLAND POWER & LIGHT COMPANY',\n",
       "       'BONNEVILLE POWER ADMINISTRATION||CITY OF PORT ANGELES - (WA)',\n",
       "       'BONNEVILLE POWER ADMINISTRATION||PUD NO 1 OF GRAYS HARBOR COUNTY',\n",
       "       'BONNEVILLE POWER ADMINISTRATION||CITY OF MILTON - (WA)|CITY OF TACOMA - (WA)',\n",
       "       'BONNEVILLE POWER ADMINISTRATION||PACIFICORP||PUD NO 1 OF CLARK COUNTY - (WA)',\n",
       "       'BONNEVILLE POWER ADMINISTRATION||VERA IRRIGATION DISTRICT #15',\n",
       "       'BONNEVILLE POWER ADMINISTRATION||COLUMBIA RURAL ELEC ASSN, INC',\n",
       "       'BONNEVILLE POWER ADMINISTRATION||CITY OF TACOMA - (WA)||PARKLAND LIGHT & WATER COMPANY|PENINSULA LIGHT COMPANY',\n",
       "       'BONNEVILLE POWER ADMINISTRATION||CITY OF TACOMA - (WA)||LAKEVIEW LIGHT & POWER|PENINSULA LIGHT COMPANY',\n",
       "       'PUD NO 1 OF PEND OREILLE COUNTY', 'PUD NO 1 OF OKANOGAN COUNTY',\n",
       "       'BONNEVILLE POWER ADMINISTRATION||CITY OF TACOMA - (WA)||PUD NO 1 OF MASON COUNTY',\n",
       "       'CITY OF TACOMA - (WA)||TANNER ELECTRIC COOP',\n",
       "       'BONNEVILLE POWER ADMINISTRATION||AVISTA CORP||BIG BEND ELECTRIC COOP, INC',\n",
       "       'OKANOGAN COUNTY ELEC COOP, INC',\n",
       "       'BONNEVILLE POWER ADMINISTRATION||CITY OF ELLENSBURG - (WA)',\n",
       "       'BONNEVILLE POWER ADMINISTRATION||AVISTA CORP||PUD NO 1 OF ASOTIN COUNTY',\n",
       "       'BONNEVILLE POWER ADMINISTRATION||PACIFICORP||COLUMBIA RURAL ELEC ASSN, INC',\n",
       "       'BONNEVILLE POWER ADMINISTRATION||CITY OF CENTRALIA - (WA)|CITY OF TACOMA - (WA)',\n",
       "       'BONNEVILLE POWER ADMINISTRATION||CITY OF MCCLEARY - (WA)',\n",
       "       'BONNEVILLE POWER ADMINISTRATION||CITY OF TACOMA - (WA)||BENTON RURAL ELECTRIC ASSN|PENINSULA LIGHT COMPANY',\n",
       "       'CITY OF BLAINE - (WA)||PUD NO 1 OF WHATCOM COUNTY',\n",
       "       'BONNEVILLE POWER ADMINISTRATION||CITY OF TACOMA - (WA)||OHOP MUTUAL LIGHT COMPANY, INC|PENINSULA LIGHT COMPANY',\n",
       "       'BONNEVILLE POWER ADMINISTRATION||PUD NO 1 OF FERRY COUNTY',\n",
       "       'BONNEVILLE POWER ADMINISTRATION||PUD NO 1 OF WAHKIAKUM COUNTY',\n",
       "       'BONNEVILLE POWER ADMINISTRATION||PUD NO 1 OF MASON COUNTY|PUD NO 1 OF JEFFERSON COUNTY',\n",
       "       'PUD NO 1 OF WHATCOM COUNTY',\n",
       "       'BONNEVILLE POWER ADMINISTRATION||BIG BEND ELECTRIC COOP, INC',\n",
       "       'BONNEVILLE POWER ADMINISTRATION||TOWN OF RUSTON - (WA)|CITY OF TACOMA - (WA)||PENINSULA LIGHT COMPANY',\n",
       "       'BONNEVILLE POWER ADMINISTRATION||PUD NO 1 OF KITTITAS COUNTY',\n",
       "       'CITY OF TACOMA - (WA)',\n",
       "       'BONNEVILLE POWER ADMINISTRATION||NESPELEM VALLEY ELEC COOP, INC',\n",
       "       'BONNEVILLE POWER ADMINISTRATION||TOWN OF EATONVILLE - (WA)|CITY OF TACOMA - (WA)',\n",
       "       'PORTLAND GENERAL ELECTRIC CO',\n",
       "       'BONNEVILLE POWER ADMINISTRATION||BENTON RURAL ELECTRIC ASSN',\n",
       "       'BONNEVILLE POWER ADMINISTRATION||PUD NO 1 OF ASOTIN COUNTY',\n",
       "       'CITY OF CHEWELAH',\n",
       "       'BONNEVILLE POWER ADMINISTRATION||CITY OF COULEE DAM - (WA)',\n",
       "       'CITY OF SUMAS - (WA)||PUD NO 1 OF WHATCOM COUNTY',\n",
       "       'BONNEVILLE POWER ADMINISTRATION||CITY OF TACOMA - (WA)||ALDER MUTUAL LIGHT CO, INC|PENINSULA LIGHT COMPANY',\n",
       "       'BONNEVILLE POWER ADMINISTRATION||PENINSULA LIGHT COMPANY',\n",
       "       'CITY OF SEATTLE - (WA)'], dtype=object)"
      ]
     },
     "execution_count": 33,
     "metadata": {},
     "output_type": "execute_result"
    }
   ],
   "source": [
    "df[\"Electric Utility\"].unique()"
   ]
  },
  {
   "cell_type": "code",
   "execution_count": 34,
   "id": "8074c986",
   "metadata": {},
   "outputs": [
    {
     "data": {
      "text/html": [
       "<div>\n",
       "<style scoped>\n",
       "    .dataframe tbody tr th:only-of-type {\n",
       "        vertical-align: middle;\n",
       "    }\n",
       "\n",
       "    .dataframe tbody tr th {\n",
       "        vertical-align: top;\n",
       "    }\n",
       "\n",
       "    .dataframe thead th {\n",
       "        text-align: right;\n",
       "    }\n",
       "</style>\n",
       "<table border=\"1\" class=\"dataframe\">\n",
       "  <thead>\n",
       "    <tr style=\"text-align: right;\">\n",
       "      <th></th>\n",
       "      <th>VIN (1-10)</th>\n",
       "      <th>Country</th>\n",
       "      <th>City</th>\n",
       "      <th>State</th>\n",
       "      <th>Postal Code</th>\n",
       "      <th>Model Year</th>\n",
       "      <th>Make</th>\n",
       "      <th>Model</th>\n",
       "      <th>Electric Vehicle Type</th>\n",
       "      <th>Clean Alternative Fuel Vehicle (CAFV) Eligibility</th>\n",
       "      <th>Electric Range</th>\n",
       "      <th>Base MSRP</th>\n",
       "      <th>Legislative District</th>\n",
       "      <th>DOL Vehicle ID</th>\n",
       "      <th>Vehicle Location</th>\n",
       "      <th>Electric Utility</th>\n",
       "      <th>2020 Census Tract</th>\n",
       "    </tr>\n",
       "  </thead>\n",
       "  <tbody>\n",
       "    <tr>\n",
       "      <th>0</th>\n",
       "      <td>5YJ3E1EB2J</td>\n",
       "      <td>Suffolk</td>\n",
       "      <td>Suffolk</td>\n",
       "      <td>VA</td>\n",
       "      <td>23435.0</td>\n",
       "      <td>2018</td>\n",
       "      <td>TESLA</td>\n",
       "      <td>MODEL 3</td>\n",
       "      <td>Battery Electric Vehicle (BEV)</td>\n",
       "      <td>Clean Alternative Fuel Vehicle Eligible</td>\n",
       "      <td>215</td>\n",
       "      <td>0</td>\n",
       "      <td>34.0</td>\n",
       "      <td>476647986</td>\n",
       "      <td>POINT (-76.42443 36.8752)</td>\n",
       "      <td>PACIFICORP</td>\n",
       "      <td>5.180008e+10</td>\n",
       "    </tr>\n",
       "    <tr>\n",
       "      <th>1</th>\n",
       "      <td>5YJ3E1ECXL</td>\n",
       "      <td>Yakima</td>\n",
       "      <td>Yakima</td>\n",
       "      <td>WA</td>\n",
       "      <td>98908.0</td>\n",
       "      <td>2020</td>\n",
       "      <td>TESLA</td>\n",
       "      <td>MODEL 3</td>\n",
       "      <td>Battery Electric Vehicle (BEV)</td>\n",
       "      <td>Clean Alternative Fuel Vehicle Eligible</td>\n",
       "      <td>308</td>\n",
       "      <td>0</td>\n",
       "      <td>14.0</td>\n",
       "      <td>103490145</td>\n",
       "      <td>POINT (-120.56916 46.58514)</td>\n",
       "      <td>PACIFICORP</td>\n",
       "      <td>5.307700e+10</td>\n",
       "    </tr>\n",
       "    <tr>\n",
       "      <th>2</th>\n",
       "      <td>WA1LAAGE7M</td>\n",
       "      <td>Yakima</td>\n",
       "      <td>Yakima</td>\n",
       "      <td>WA</td>\n",
       "      <td>98908.0</td>\n",
       "      <td>2021</td>\n",
       "      <td>AUDI</td>\n",
       "      <td>E-TRON</td>\n",
       "      <td>Battery Electric Vehicle (BEV)</td>\n",
       "      <td>Clean Alternative Fuel Vehicle Eligible</td>\n",
       "      <td>222</td>\n",
       "      <td>0</td>\n",
       "      <td>14.0</td>\n",
       "      <td>144941534</td>\n",
       "      <td>POINT (-120.56916 46.58514)</td>\n",
       "      <td>PACIFICORP</td>\n",
       "      <td>5.307700e+10</td>\n",
       "    </tr>\n",
       "    <tr>\n",
       "      <th>3</th>\n",
       "      <td>5YJ3E1EA1K</td>\n",
       "      <td>Danville</td>\n",
       "      <td>Danville</td>\n",
       "      <td>VA</td>\n",
       "      <td>24541.0</td>\n",
       "      <td>2019</td>\n",
       "      <td>TESLA</td>\n",
       "      <td>MODEL 3</td>\n",
       "      <td>Battery Electric Vehicle (BEV)</td>\n",
       "      <td>Clean Alternative Fuel Vehicle Eligible</td>\n",
       "      <td>220</td>\n",
       "      <td>0</td>\n",
       "      <td>14.0</td>\n",
       "      <td>168513922</td>\n",
       "      <td>POINT (-79.4172 36.58598)</td>\n",
       "      <td>PACIFICORP</td>\n",
       "      <td>5.159000e+10</td>\n",
       "    </tr>\n",
       "    <tr>\n",
       "      <th>4</th>\n",
       "      <td>1FADP5CU9E</td>\n",
       "      <td>Norfolk</td>\n",
       "      <td>Norfolk</td>\n",
       "      <td>VA</td>\n",
       "      <td>23518.0</td>\n",
       "      <td>2014</td>\n",
       "      <td>FORD</td>\n",
       "      <td>C-MAX</td>\n",
       "      <td>Plug-in Hybrid Electric Vehicle (PHEV)</td>\n",
       "      <td>Not eligible due to low battery range</td>\n",
       "      <td>19</td>\n",
       "      <td>0</td>\n",
       "      <td>14.0</td>\n",
       "      <td>150749378</td>\n",
       "      <td>POINT (-76.21549 36.92478)</td>\n",
       "      <td>PACIFICORP</td>\n",
       "      <td>5.171001e+10</td>\n",
       "    </tr>\n",
       "  </tbody>\n",
       "</table>\n",
       "</div>"
      ],
      "text/plain": [
       "   VIN (1-10)   Country      City State  Postal Code  Model Year   Make  \\\n",
       "0  5YJ3E1EB2J   Suffolk   Suffolk    VA      23435.0        2018  TESLA   \n",
       "1  5YJ3E1ECXL    Yakima    Yakima    WA      98908.0        2020  TESLA   \n",
       "2  WA1LAAGE7M    Yakima    Yakima    WA      98908.0        2021   AUDI   \n",
       "3  5YJ3E1EA1K  Danville  Danville    VA      24541.0        2019  TESLA   \n",
       "4  1FADP5CU9E   Norfolk   Norfolk    VA      23518.0        2014   FORD   \n",
       "\n",
       "     Model                   Electric Vehicle Type  \\\n",
       "0  MODEL 3          Battery Electric Vehicle (BEV)   \n",
       "1  MODEL 3          Battery Electric Vehicle (BEV)   \n",
       "2   E-TRON          Battery Electric Vehicle (BEV)   \n",
       "3  MODEL 3          Battery Electric Vehicle (BEV)   \n",
       "4    C-MAX  Plug-in Hybrid Electric Vehicle (PHEV)   \n",
       "\n",
       "  Clean Alternative Fuel Vehicle (CAFV) Eligibility  Electric Range  \\\n",
       "0           Clean Alternative Fuel Vehicle Eligible             215   \n",
       "1           Clean Alternative Fuel Vehicle Eligible             308   \n",
       "2           Clean Alternative Fuel Vehicle Eligible             222   \n",
       "3           Clean Alternative Fuel Vehicle Eligible             220   \n",
       "4             Not eligible due to low battery range              19   \n",
       "\n",
       "   Base MSRP  Legislative District  DOL Vehicle ID  \\\n",
       "0          0                  34.0       476647986   \n",
       "1          0                  14.0       103490145   \n",
       "2          0                  14.0       144941534   \n",
       "3          0                  14.0       168513922   \n",
       "4          0                  14.0       150749378   \n",
       "\n",
       "              Vehicle Location Electric Utility  2020 Census Tract  \n",
       "0    POINT (-76.42443 36.8752)       PACIFICORP       5.180008e+10  \n",
       "1  POINT (-120.56916 46.58514)       PACIFICORP       5.307700e+10  \n",
       "2  POINT (-120.56916 46.58514)       PACIFICORP       5.307700e+10  \n",
       "3    POINT (-79.4172 36.58598)       PACIFICORP       5.159000e+10  \n",
       "4   POINT (-76.21549 36.92478)       PACIFICORP       5.171001e+10  "
      ]
     },
     "execution_count": 34,
     "metadata": {},
     "output_type": "execute_result"
    }
   ],
   "source": [
    "df.head()"
   ]
  },
  {
   "cell_type": "markdown",
   "id": "bb3323fb",
   "metadata": {},
   "source": [
    "# Data Visualization"
   ]
  },
  {
   "cell_type": "code",
   "execution_count": 41,
   "id": "5f4dcdbc",
   "metadata": {},
   "outputs": [],
   "source": [
    "df.to_csv(\"clean.csv\")"
   ]
  },
  {
   "cell_type": "code",
   "execution_count": 37,
   "id": "ef488b4f",
   "metadata": {},
   "outputs": [
    {
     "data": {
      "image/png": "[encoded data removed]",
      "text/plain": [
       "<Figure size 640x480 with 1 Axes>"
      ]
     },
     "metadata": {},
     "output_type": "display_data"
    }
   ],
   "source": [
    "#Evs per model % pie chart \n",
    "\n",
    "plot = (100 * df['Model'].value_counts()[:10] / len(df['Model'])).plot(\n",
    "kind='pie', autopct='%1.1f%%', title='Evs per Model (%)')"
   ]
  },
  {
   "cell_type": "code",
   "execution_count": 38,
   "id": "18fbfa98",
   "metadata": {},
   "outputs": [
    {
     "data": {
      "text/plain": [
       "<seaborn.axisgrid.FacetGrid at 0x1dbb4b1d1f0>"
      ]
     },
     "execution_count": 38,
     "metadata": {},
     "output_type": "execute_result"
    },
    {
     "data": {
      "image/png": "[encoded data removed]",
      "text/plain": [
       "<Figure size 1000x500 with 2 Axes>"
      ]
     },
     "metadata": {},
     "output_type": "display_data"
    }
   ],
   "source": [
    "sns.displot(data=df, x=\"Electric Range\", col=\"Electric Vehicle Type\" , kde=True)"
   ]
  },
  {
   "cell_type": "code",
   "execution_count": 39,
   "id": "864b9e8e",
   "metadata": {},
   "outputs": [
    {
     "data": {
      "text/plain": [
       "<AxesSubplot:xlabel='Electric Range', ylabel='Base MSRP'>"
      ]
     },
     "execution_count": 39,
     "metadata": {},
     "output_type": "execute_result"
    },
    {
     "data": {
      "image/png": "[encoded data removed]",
      "text/plain": [
       "<Figure size 640x480 with 1 Axes>"
      ]
     },
     "metadata": {},
     "output_type": "display_data"
    }
   ],
   "source": [
    "sns.scatterplot(data=df, x=\"Electric Range\", y=\"Base MSRP\")"
   ]
  },
  {
   "cell_type": "code",
   "execution_count": 40,
   "id": "660761d8",
   "metadata": {},
   "outputs": [
    {
     "data": {
      "image/png": "[encoded data removed]",
      "text/plain": [
       "<Figure size 640x480 with 1 Axes>"
      ]
     },
     "metadata": {},
     "output_type": "display_data"
    }
   ],
   "source": [
    "plot = (100 * df['Country'].value_counts()[:10] / len(df['Country'])).plot(\n",
    "kind='pie', autopct='%1.1f%%', title='Evs per Country(%)')"
   ]
  },
  {
   "cell_type": "code",
   "execution_count": null,
   "id": "86f1e781",
   "metadata": {},
   "outputs": [],
   "source": []
  }
 ],
 "metadata": {
  "kernelspec": {
   "display_name": "Python 3 (ipykernel)",
   "language": "python",
   "name": "python3"
  },
  "language_info": {
   "codemirror_mode": {
    "name": "ipython",
    "version": 3
   },
   "file_extension": ".py",
   "mimetype": "text/x-python",
   "name": "python",
   "nbconvert_exporter": "python",
   "pygments_lexer": "ipython3",
   "version": "3.9.13"
  }
 },
 "nbformat": 4,
 "nbformat_minor": 5
}
